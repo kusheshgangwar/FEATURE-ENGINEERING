{
  "nbformat": 4,
  "nbformat_minor": 0,
  "metadata": {
    "colab": {
      "provenance": [],
      "authorship_tag": "ABX9TyMBbGLzTPgxQWBwupiWNO7A",
      "include_colab_link": true
    },
    "kernelspec": {
      "name": "python3",
      "display_name": "Python 3"
    },
    "language_info": {
      "name": "python"
    }
  },
  "cells": [
    {
      "cell_type": "markdown",
      "metadata": {
        "id": "view-in-github",
        "colab_type": "text"
      },
      "source": [
        "<a href=\"https://colab.research.google.com/github/kusheshgangwar/FEATURE-ENGINEERING/blob/main/FEATURE_ENGINEERING.ipynb\" target=\"_parent\"><img src=\"https://colab.research.google.com/assets/colab-badge.svg\" alt=\"Open In Colab\"/></a>"
      ]
    },
    {
      "cell_type": "code",
      "source": [
        "# Sample dataset with timestamps and sensor readings\n",
        "import numpy as np\n",
        "import pandas as pd\n",
        "\n",
        "data = {\n",
        "    'Timestamp': pd.date_range(start='2024-01-01', periods=10, freq='D'),\n",
        "    'Temperature': [60, 62, 65, 67, 70, 74, 76, 78, 80, 85],\n",
        "    'Vibration': [0.5, 0.7, 0.6, 0.8, 0.9, 1.2, 1.5, 1.8, 2.0, 2.5],\n",
        "    'Failure': [0, 0, 0, 0, 1, 0, 0, 1, 0, 1]  # Equipment failure indicator\n",
        "}\n",
        "\n",
        "df = pd.DataFrame(data)"
      ],
      "metadata": {
        "id": "G-phzU7bu8vp"
      },
      "execution_count": null,
      "outputs": []
    },
    {
      "cell_type": "code",
      "source": [
        "# *1. Time-Based Features*\n",
        "df['Day_of_Week'] = df['Timestamp'].dt.dayofweek  # Day of the week (0=Monday)\n",
        "df['Hour_of_Day'] = df['Timestamp'].dt.hour  # Extract hour (useful for hourly data)\n",
        "df['Month'] = df['Timestamp'].dt.month  # Extract month"
      ],
      "metadata": {
        "id": "3UVKI4MmvaAB"
      },
      "execution_count": null,
      "outputs": []
    },
    {
      "cell_type": "code",
      "source": [
        "# *2. Rolling Statistics (Useful for detecting anomalies)*\n",
        "df['Temp_Mean_3D'] = df['Temperature'].rolling(window=3, min_periods=1).mean()\n",
        "df['Temp_Std_3D'] = df['Temperature'].rolling(window=3, min_periods=1).std()\n",
        "df['Vib_Mean_3D'] = df['Vibration'].rolling(window=3, min_periods=1).mean()\n",
        "df['Vib_Std_3D'] = df['Vibration'].rolling(window=3, min_periods=1).std()\n"
      ],
      "metadata": {
        "id": "8iqRaNuJvgBY"
      },
      "execution_count": null,
      "outputs": []
    },
    {
      "cell_type": "code",
      "source": [
        "# *3. Lag Features (Previous values to detect trends)*\n",
        "df['Temp_Lag_1D'] = df['Temperature'].shift(1)\n",
        "df['Vib_Lag_1D'] = df['Vibration'].shift(1)"
      ],
      "metadata": {
        "id": "zJQTuEoFvjQI"
      },
      "execution_count": null,
      "outputs": []
    },
    {
      "cell_type": "code",
      "source": [
        "# *4. Interaction Features (Multiplying correlated features)*\n",
        "df['Temp_Vib_Interaction'] = df['Temperature'] * df['Vibration']\n"
      ],
      "metadata": {
        "id": "dW4eTpKLvnMg"
      },
      "execution_count": null,
      "outputs": []
    },
    {
      "cell_type": "code",
      "source": [
        "# *5. Binary Flags (Detecting high-risk conditions)*\n",
        "df['High_Temp'] = (df['Temperature'] > 75).astype(int)  # Flag when temperature > 75\n",
        "df['High_Vib'] = (df['Vibration'] > 1.5).astype(int)  # Flag when vibration > 1.5\n"
      ],
      "metadata": {
        "id": "zFOhcqaGvt2A"
      },
      "execution_count": null,
      "outputs": []
    },
    {
      "cell_type": "code",
      "source": [
        "# *Check Processed Data*\n",
        "print(df.head())"
      ],
      "metadata": {
        "colab": {
          "base_uri": "https://localhost:8080/"
        },
        "id": "RzrdYO5Zvw9I",
        "outputId": "0a5b001c-8566-4f22-dabe-4f486591d0bd"
      },
      "execution_count": null,
      "outputs": [
        {
          "output_type": "stream",
          "name": "stdout",
          "text": [
            "   Timestamp  Temperature  Vibration  Failure  Day_of_Week  Hour_of_Day  \\\n",
            "0 2024-01-01           60        0.5        0            0            0   \n",
            "1 2024-01-02           62        0.7        0            1            0   \n",
            "2 2024-01-03           65        0.6        0            2            0   \n",
            "3 2024-01-04           67        0.8        0            3            0   \n",
            "4 2024-01-05           70        0.9        1            4            0   \n",
            "\n",
            "   Month  Temp_Mean_3D  Temp_Std_3D  Vib_Mean_3D  Vib_Std_3D  Temp_Lag_1D  \\\n",
            "0      1     60.000000          NaN     0.500000         NaN          NaN   \n",
            "1      1     61.000000     1.414214     0.600000    0.141421         60.0   \n",
            "2      1     62.333333     2.516611     0.600000    0.100000         62.0   \n",
            "3      1     64.666667     2.516611     0.700000    0.100000         65.0   \n",
            "4      1     67.333333     2.516611     0.766667    0.152753         67.0   \n",
            "\n",
            "   Vib_Lag_1D  Temp_Vib_Interaction  High_Temp  High_Vib  \n",
            "0         NaN                  30.0          0         0  \n",
            "1         0.5                  43.4          0         0  \n",
            "2         0.7                  39.0          0         0  \n",
            "3         0.6                  53.6          0         0  \n",
            "4         0.8                  63.0          0         0  \n"
          ]
        }
      ]
    }
  ]
}